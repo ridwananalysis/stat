{
 "cells": [
  {
   "cell_type": "code",
   "execution_count": 3,
   "id": "9ebb0a73",
   "metadata": {},
   "outputs": [
    {
     "name": "stdout",
     "output_type": "stream",
     "text": [
      "80\n"
     ]
    }
   ],
   "source": [
    "num1 = (30)\n",
    "num2 = (50)\n",
    "sum = (num1 + num2)\n",
    "print (sum)"
   ]
  },
  {
   "cell_type": "code",
   "execution_count": 4,
   "id": "cbcf9404",
   "metadata": {},
   "outputs": [
    {
     "name": "stdout",
     "output_type": "stream",
     "text": [
      "-20\n"
     ]
    }
   ],
   "source": [
    "sub = (num1 - num2)\n",
    "print (sub)"
   ]
  },
  {
   "cell_type": "code",
   "execution_count": 5,
   "id": "c878d3dc",
   "metadata": {},
   "outputs": [],
   "source": [
    "mul = (num1*num2)"
   ]
  },
  {
   "cell_type": "code",
   "execution_count": 6,
   "id": "59c037f0",
   "metadata": {},
   "outputs": [
    {
     "name": "stdout",
     "output_type": "stream",
     "text": [
      "1500\n"
     ]
    }
   ],
   "source": [
    "print (mul)"
   ]
  },
  {
   "cell_type": "code",
   "execution_count": 7,
   "id": "fdc9e78f",
   "metadata": {},
   "outputs": [
    {
     "name": "stdout",
     "output_type": "stream",
     "text": [
      "1.6666666666666667\n"
     ]
    }
   ],
   "source": [
    "div = (num2/num1)\n",
    "print (div)"
   ]
  },
  {
   "cell_type": "code",
   "execution_count": 8,
   "id": "86302c5b",
   "metadata": {},
   "outputs": [
    {
     "name": "stdout",
     "output_type": "stream",
     "text": [
      "1\n"
     ]
    }
   ],
   "source": [
    "mod = (4%3)\n",
    "print(mod)"
   ]
  },
  {
   "cell_type": "code",
   "execution_count": 9,
   "id": "0a06f309",
   "metadata": {},
   "outputs": [
    {
     "data": {
      "text/plain": [
       "2"
      ]
     },
     "execution_count": 9,
     "metadata": {},
     "output_type": "execute_result"
    }
   ],
   "source": [
    "def calculate_power (base,exponent):\n",
    "    var1 = (base**exponent)\n",
    "    var2 = (base%exponent) \n",
    "    return var2\n",
    "calculate_power (2,4)"
   ]
  },
  {
   "cell_type": "code",
   "execution_count": 10,
   "id": "facc1860",
   "metadata": {},
   "outputs": [
    {
     "data": {
      "text/plain": [
       "str"
      ]
     },
     "execution_count": 10,
     "metadata": {},
     "output_type": "execute_result"
    }
   ],
   "source": [
    "def returntype (wat):\n",
    "    return type(wat)\n",
    "returntype(\"2\")"
   ]
  },
  {
   "cell_type": "code",
   "execution_count": 11,
   "id": "a654b273",
   "metadata": {},
   "outputs": [],
   "source": [
    "ran = 12"
   ]
  },
  {
   "cell_type": "code",
   "execution_count": 12,
   "id": "ce017738",
   "metadata": {},
   "outputs": [
    {
     "data": {
      "text/plain": [
       "int"
      ]
     },
     "execution_count": 12,
     "metadata": {},
     "output_type": "execute_result"
    }
   ],
   "source": [
    "type(ran)"
   ]
  },
  {
   "cell_type": "code",
   "execution_count": 15,
   "id": "8a4d7662",
   "metadata": {},
   "outputs": [
    {
     "name": "stdout",
     "output_type": "stream",
     "text": [
      "this is not a float\n"
     ]
    }
   ],
   "source": [
    "if type(ran) != str:\n",
    "    print(\"this is not a float\")"
   ]
  },
  {
   "cell_type": "code",
   "execution_count": 9,
   "id": "54059c69",
   "metadata": {},
   "outputs": [
    {
     "name": "stdout",
     "output_type": "stream",
     "text": [
      "F\n"
     ]
    }
   ],
   "source": [
    "def grade(score):\n",
    "    if score >= 70:\n",
    "        print ('A')\n",
    "    elif score >= 60:\n",
    "        print ('B')\n",
    "    elif score >= 55:\n",
    "        print ('c')\n",
    "    elif score >= 49:\n",
    "        print ('F')\n",
    "    \n",
    "grade(50)   "
   ]
  },
  {
   "cell_type": "code",
   "execution_count": 20,
   "id": "7f6a09ec",
   "metadata": {},
   "outputs": [
    {
     "name": "stdout",
     "output_type": "stream",
     "text": [
      "it is rainy\n"
     ]
    }
   ],
   "source": [
    "rainy = True\n",
    "temperature = 12\n",
    "\n",
    "if rainy and temperature >= 12:\n",
    "    print(\"it is rainy\")"
   ]
  },
  {
   "cell_type": "code",
   "execution_count": 8,
   "id": "12171cfc",
   "metadata": {},
   "outputs": [
    {
     "name": "stdout",
     "output_type": "stream",
     "text": [
      "it is hot and sunny\n"
     ]
    }
   ],
   "source": [
    "sunny = True\n",
    "temperature = 35\n",
    "\n",
    "if sunny and temperature >=35:\n",
    "    print (\"it is hot and sunny\")"
   ]
  },
  {
   "cell_type": "code",
   "execution_count": 7,
   "id": "7ea26656",
   "metadata": {},
   "outputs": [
    {
     "name": "stdout",
     "output_type": "stream",
     "text": [
      "it is sunny but not too hot and sunny\n"
     ]
    }
   ],
   "source": [
    "rsunny = True\n",
    "temperature = 19\n",
    "\n",
    "if sunny or temperature >=19:\n",
    "    print (\"it is sunny but not too hot and sunny\")"
   ]
  },
  {
   "cell_type": "code",
   "execution_count": null,
   "id": "f05f8d00",
   "metadata": {},
   "outputs": [],
   "source": []
  },
  {
   "cell_type": "code",
   "execution_count": null,
   "id": "a41e7c1c",
   "metadata": {},
   "outputs": [],
   "source": []
  }
 ],
 "metadata": {
  "kernelspec": {
   "display_name": "Python 3 (ipykernel)",
   "language": "python",
   "name": "python3"
  },
  "language_info": {
   "codemirror_mode": {
    "name": "ipython",
    "version": 3
   },
   "file_extension": ".py",
   "mimetype": "text/x-python",
   "name": "python",
   "nbconvert_exporter": "python",
   "pygments_lexer": "ipython3",
   "version": "3.11.4"
  }
 },
 "nbformat": 4,
 "nbformat_minor": 5
}
